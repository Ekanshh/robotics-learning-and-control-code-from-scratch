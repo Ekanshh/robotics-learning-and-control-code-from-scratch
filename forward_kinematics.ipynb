{
 "cells": [
  {
   "cell_type": "markdown",
   "id": "a195757f-6cf5-4a66-8e44-fcd8ea6893b6",
   "metadata": {},
   "source": [
    "# Reference: \n",
    "\n",
    "[1] Robotics Codes from Scratch: https://rcfs.ch/ \\\n",
    "[2] https://tube.switch.ch/channels/e5e11e14?order=oldest\n"
   ]
  },
  {
   "cell_type": "code",
   "execution_count": 5,
   "id": "3301eb2b-c9a1-461f-937a-03df94833b0a",
   "metadata": {},
   "outputs": [],
   "source": [
    "import matplotlib.pyplot as plt\n",
    "import numpy as np\n",
    "from IPython.display import HTML\n",
    "from matplotlib.animation import FuncAnimation"
   ]
  },
  {
   "cell_type": "code",
   "execution_count": 6,
   "id": "c767e3d7-5c7d-48e9-ac37-c72d6b558b7e",
   "metadata": {},
   "outputs": [
    {
     "data": {
      "image/png": "[encoded data removed]",
      "text/plain": [
       "<Figure size 640x480 with 1 Axes>"
      ]
     },
     "metadata": {},
     "output_type": "display_data"
    }
   ],
   "source": [
    "# Manipulator class\n",
    "manipulator = lambda: None\n",
    "manipulator.nbDOFs = 3\n",
    "manipulator.l = [2.0, 2.0, 2.0]  # l1, l2, l3\n",
    "manipulator.x = [0, np.pi / 2, -np.pi / 12]  # x1, x2, x3\n",
    "\n",
    "\n",
    "def plot_forward_kinematics(fk, iteration=1):\n",
    "    \"\"\"Plot forward kinematics for all joints (in robot coordinate system)\"\"\"\n",
    "    plt.plot(\n",
    "        fk[0, :],\n",
    "        fk[1, :],\n",
    "        color=(0.8 * (1 / iteration), 0.8 * (1 / iteration), 0.8 * (1 / iteration)),\n",
    "        linewidth=5,\n",
    "        zorder=0,\n",
    "    )\n",
    "    plt.scatter(\n",
    "        fk[0, 1:], fk[1, 1:], color=(0.6, 0.8, 0.9), marker=\"o\", s=100, zorder=1\n",
    "    )\n",
    "    plt.scatter(fk[0, 0], fk[1, 0], color=(0.0, 0.0, 0.0), marker=\"s\", s=100, zorder=1)\n",
    "\n",
    "\n",
    "def compute_forward_kinematics(params: manipulator) -> None:\n",
    "    \"\"\"Compute forward kinematics for all joints (in robot coordinate system)\"\"\"\n",
    "\n",
    "    L = np.tril(np.ones(params.nbDOFs))\n",
    "    f = np.vstack(\n",
    "        [\n",
    "            L @ np.diag(params.l) @ np.cos(L @ params.x),\n",
    "            L @ np.diag(params.l) @ np.sin(L @ params.x),\n",
    "        ]\n",
    "    )\n",
    "    f = np.hstack((np.zeros((2, 1)), f))\n",
    "    return f\n",
    "\n",
    "\n",
    "# Default configuration @ x3 as -pi/12\n",
    "fk0 = compute_forward_kinematics(manipulator)\n",
    "plot_forward_kinematics(fk0, iteration=1)\n",
    "\n",
    "# Next target @ x3 as -pi/6\n",
    "manipulator.x[-1] = -np.pi / 6\n",
    "fk1 = compute_forward_kinematics(manipulator)\n",
    "plot_forward_kinematics(fk1, iteration=2)\n",
    "\n",
    "# Next target @ x3 as -pi/4\n",
    "manipulator.x[-1] = -np.pi / 4\n",
    "fk2 = compute_forward_kinematics(manipulator)\n",
    "plot_forward_kinematics(fk2, iteration=3)\n",
    "\n",
    "# Next target @ x3 as -pi/3\n",
    "manipulator.x[-1] = -np.pi / 3\n",
    "fk3 = compute_forward_kinematics(manipulator)\n",
    "plot_forward_kinematics(fk3, iteration=4)\n",
    "\n",
    "plt.axis(\"off\")\n",
    "plt.axis(\"equal\")\n",
    "plt.show()"
   ]
  }
 ],
 "metadata": {
  "kernelspec": {
   "display_name": "Python 3 (ipykernel)",
   "language": "python",
   "name": "python3"
  },
  "language_info": {
   "codemirror_mode": {
    "name": "ipython",
    "version": 3
   },
   "file_extension": ".py",
   "mimetype": "text/x-python",
   "name": "python",
   "nbconvert_exporter": "python",
   "pygments_lexer": "ipython3",
   "version": "3.8.18"
  }
 },
 "nbformat": 4,
 "nbformat_minor": 5
}
